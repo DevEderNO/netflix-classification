{
  "nbformat": 4,
  "nbformat_minor": 0,
  "metadata": {
    "colab": {
      "name": "netflix-classification.ipynb",
      "provenance": [],
      "collapsed_sections": [],
      "authorship_tag": "ABX9TyMPHXaQEXBLEISgsOTfaPfh",
      "include_colab_link": true
    },
    "kernelspec": {
      "name": "python3",
      "display_name": "Python 3"
    }
  },
  "cells": [
    {
      "cell_type": "markdown",
      "metadata": {
        "id": "view-in-github",
        "colab_type": "text"
      },
      "source": [
        "<a href=\"https://colab.research.google.com/github/DevEderNO/netflix-classification/blob/master/netflix_classification.ipynb\" target=\"_parent\"><img src=\"https://colab.research.google.com/assets/colab-badge.svg\" alt=\"Open In Colab\"/></a>"
      ]
    },
    {
      "cell_type": "code",
      "metadata": {
        "id": "DbeTxMXYnq1r",
        "colab_type": "code",
        "outputId": "c2baf6ba-5317-4add-b98a-7726f261e1f1",
        "colab": {
          "base_uri": "https://localhost:8080/",
          "height": 54
        }
      },
      "source": [
        "import numpy as np\n",
        "import pandas as pd\n",
        "import xlrd\n",
        "import itertools\n",
        "import pylab\n",
        "import matplotlib.pyplot as plt\n",
        "from datetime import datetime as dt\n",
        "from sklearn.feature_selection import mutual_info_classif, mutual_info_regression, SelectKBest, SelectPercentile, chi2\n",
        "from sklearn.datasets import load_breast_cancer\n",
        "from sklearn.model_selection import train_test_split\n",
        "from sklearn.neighbors import KNeighborsClassifier\n",
        "import seaborn as sns\n",
        "%matplotlib inline\n",
        "\n",
        "# Mostrar todas as colunas\n",
        "pd.pandas.set_option('display.max_columns', None)\n",
        "\n",
        "# Suprimir as mensagens de alerta\n",
        "import warnings\n",
        "warnings.filterwarnings('ignore')\n",
        "\n",
        "import pymc3 as pm"
      ],
      "execution_count": 0,
      "outputs": [
        {
          "output_type": "stream",
          "text": [
            "/usr/local/lib/python3.6/dist-packages/statsmodels/tools/_testing.py:19: FutureWarning: pandas.util.testing is deprecated. Use the functions in the public API at pandas.testing instead.\n",
            "  import pandas.util.testing as tm\n"
          ],
          "name": "stderr"
        }
      ]
    },
    {
      "cell_type": "code",
      "metadata": {
        "id": "Z9l1fFGCs2YH",
        "colab_type": "code",
        "outputId": "d7347caa-7556-4086-d85d-2b02ee33dd6c",
        "colab": {
          "base_uri": "https://localhost:8080/",
          "height": 303
        }
      },
      "source": [
        "ds = pd.read_csv('netflix_titles.csv')\n",
        "print('Formato de arquivo de treino {}'.format(ds.shape))\n",
        "ds.head()"
      ],
      "execution_count": 0,
      "outputs": [
        {
          "output_type": "stream",
          "text": [
            "Formato de arquivo de treino (6234, 12)\n"
          ],
          "name": "stdout"
        },
        {
          "output_type": "execute_result",
          "data": {
            "text/html": [
              "<div>\n",
              "<style scoped>\n",
              "    .dataframe tbody tr th:only-of-type {\n",
              "        vertical-align: middle;\n",
              "    }\n",
              "\n",
              "    .dataframe tbody tr th {\n",
              "        vertical-align: top;\n",
              "    }\n",
              "\n",
              "    .dataframe thead th {\n",
              "        text-align: right;\n",
              "    }\n",
              "</style>\n",
              "<table border=\"1\" class=\"dataframe\">\n",
              "  <thead>\n",
              "    <tr style=\"text-align: right;\">\n",
              "      <th></th>\n",
              "      <th>show_id</th>\n",
              "      <th>type</th>\n",
              "      <th>title</th>\n",
              "      <th>director</th>\n",
              "      <th>cast</th>\n",
              "      <th>country</th>\n",
              "      <th>date_added</th>\n",
              "      <th>release_year</th>\n",
              "      <th>rating</th>\n",
              "      <th>duration</th>\n",
              "      <th>listed_in</th>\n",
              "      <th>description</th>\n",
              "    </tr>\n",
              "  </thead>\n",
              "  <tbody>\n",
              "    <tr>\n",
              "      <th>0</th>\n",
              "      <td>81145628</td>\n",
              "      <td>Movie</td>\n",
              "      <td>Norm of the North: King Sized Adventure</td>\n",
              "      <td>Richard Finn, Tim Maltby</td>\n",
              "      <td>Alan Marriott, Andrew Toth, Brian Dobson, Cole...</td>\n",
              "      <td>United States, India, South Korea, China</td>\n",
              "      <td>September 9, 2019</td>\n",
              "      <td>2019</td>\n",
              "      <td>TV-PG</td>\n",
              "      <td>90 min</td>\n",
              "      <td>Children &amp; Family Movies, Comedies</td>\n",
              "      <td>Before planning an awesome wedding for his gra...</td>\n",
              "    </tr>\n",
              "    <tr>\n",
              "      <th>1</th>\n",
              "      <td>80117401</td>\n",
              "      <td>Movie</td>\n",
              "      <td>Jandino: Whatever it Takes</td>\n",
              "      <td>NaN</td>\n",
              "      <td>Jandino Asporaat</td>\n",
              "      <td>United Kingdom</td>\n",
              "      <td>September 9, 2016</td>\n",
              "      <td>2016</td>\n",
              "      <td>TV-MA</td>\n",
              "      <td>94 min</td>\n",
              "      <td>Stand-Up Comedy</td>\n",
              "      <td>Jandino Asporaat riffs on the challenges of ra...</td>\n",
              "    </tr>\n",
              "    <tr>\n",
              "      <th>2</th>\n",
              "      <td>70234439</td>\n",
              "      <td>TV Show</td>\n",
              "      <td>Transformers Prime</td>\n",
              "      <td>NaN</td>\n",
              "      <td>Peter Cullen, Sumalee Montano, Frank Welker, J...</td>\n",
              "      <td>United States</td>\n",
              "      <td>September 8, 2018</td>\n",
              "      <td>2013</td>\n",
              "      <td>TV-Y7-FV</td>\n",
              "      <td>1 Season</td>\n",
              "      <td>Kids' TV</td>\n",
              "      <td>With the help of three human allies, the Autob...</td>\n",
              "    </tr>\n",
              "    <tr>\n",
              "      <th>3</th>\n",
              "      <td>80058654</td>\n",
              "      <td>TV Show</td>\n",
              "      <td>Transformers: Robots in Disguise</td>\n",
              "      <td>NaN</td>\n",
              "      <td>Will Friedle, Darren Criss, Constance Zimmer, ...</td>\n",
              "      <td>United States</td>\n",
              "      <td>September 8, 2018</td>\n",
              "      <td>2016</td>\n",
              "      <td>TV-Y7</td>\n",
              "      <td>1 Season</td>\n",
              "      <td>Kids' TV</td>\n",
              "      <td>When a prison ship crash unleashes hundreds of...</td>\n",
              "    </tr>\n",
              "    <tr>\n",
              "      <th>4</th>\n",
              "      <td>80125979</td>\n",
              "      <td>Movie</td>\n",
              "      <td>#realityhigh</td>\n",
              "      <td>Fernando Lebrija</td>\n",
              "      <td>Nesta Cooper, Kate Walsh, John Michael Higgins...</td>\n",
              "      <td>United States</td>\n",
              "      <td>September 8, 2017</td>\n",
              "      <td>2017</td>\n",
              "      <td>TV-14</td>\n",
              "      <td>99 min</td>\n",
              "      <td>Comedies</td>\n",
              "      <td>When nerdy high schooler Dani finally attracts...</td>\n",
              "    </tr>\n",
              "  </tbody>\n",
              "</table>\n",
              "</div>"
            ],
            "text/plain": [
              "    show_id     type                                    title  \\\n",
              "0  81145628    Movie  Norm of the North: King Sized Adventure   \n",
              "1  80117401    Movie               Jandino: Whatever it Takes   \n",
              "2  70234439  TV Show                       Transformers Prime   \n",
              "3  80058654  TV Show         Transformers: Robots in Disguise   \n",
              "4  80125979    Movie                             #realityhigh   \n",
              "\n",
              "                   director  \\\n",
              "0  Richard Finn, Tim Maltby   \n",
              "1                       NaN   \n",
              "2                       NaN   \n",
              "3                       NaN   \n",
              "4          Fernando Lebrija   \n",
              "\n",
              "                                                cast  \\\n",
              "0  Alan Marriott, Andrew Toth, Brian Dobson, Cole...   \n",
              "1                                   Jandino Asporaat   \n",
              "2  Peter Cullen, Sumalee Montano, Frank Welker, J...   \n",
              "3  Will Friedle, Darren Criss, Constance Zimmer, ...   \n",
              "4  Nesta Cooper, Kate Walsh, John Michael Higgins...   \n",
              "\n",
              "                                    country         date_added  release_year  \\\n",
              "0  United States, India, South Korea, China  September 9, 2019          2019   \n",
              "1                            United Kingdom  September 9, 2016          2016   \n",
              "2                             United States  September 8, 2018          2013   \n",
              "3                             United States  September 8, 2018          2016   \n",
              "4                             United States  September 8, 2017          2017   \n",
              "\n",
              "     rating  duration                           listed_in  \\\n",
              "0     TV-PG    90 min  Children & Family Movies, Comedies   \n",
              "1     TV-MA    94 min                     Stand-Up Comedy   \n",
              "2  TV-Y7-FV  1 Season                            Kids' TV   \n",
              "3     TV-Y7  1 Season                            Kids' TV   \n",
              "4     TV-14    99 min                            Comedies   \n",
              "\n",
              "                                         description  \n",
              "0  Before planning an awesome wedding for his gra...  \n",
              "1  Jandino Asporaat riffs on the challenges of ra...  \n",
              "2  With the help of three human allies, the Autob...  \n",
              "3  When a prison ship crash unleashes hundreds of...  \n",
              "4  When nerdy high schooler Dani finally attracts...  "
            ]
          },
          "metadata": {
            "tags": []
          },
          "execution_count": 230
        }
      ]
    },
    {
      "cell_type": "markdown",
      "metadata": {
        "id": "pGHEAbwywWy5",
        "colab_type": "text"
      },
      "source": [
        "#**Abaixo estão as descrições das colunas do nosso Dataset**\n",
        "\n",
        "1. **show_id** - Identificador unico para Filmes / Tv Show\n",
        "2. **type** - Tipo de A Filmes / Tv Show\n",
        "3. **title** - Titulo dos Filmes / Tv Show\n",
        "4. **director** - Diretor de Filmes\n",
        "5. **cast** - Autores involvidos nos Filmes / Tv Show\n",
        "6. **country** - Região onde os Filmes / Tv Show foram produzidos\n",
        "7. **date_added** - Data que foi adicionado na Netflix\n",
        "8. **release_year** - Ano de lançamento real dos Filmes / Tv Show\n",
        "9. **rating** - Classificação dos Filmes / Tv Show\n",
        "10. **duration** - Duração total em minutos ou numeros de estações\n",
        "11. **listed_in** - Listado nos Generos\n",
        "12. **description** - Descrição do sumário"
      ]
    },
    {
      "cell_type": "code",
      "metadata": {
        "id": "C7DNWfd4zyyZ",
        "colab_type": "code",
        "outputId": "bdd98621-407c-467b-a4e3-a892e89c85db",
        "colab": {
          "base_uri": "https://localhost:8080/",
          "height": 254
        }
      },
      "source": [
        "# Verificando os tipos de dados contidos no Dataset\n",
        "ds.dtypes"
      ],
      "execution_count": 0,
      "outputs": [
        {
          "output_type": "execute_result",
          "data": {
            "text/plain": [
              "show_id          int64\n",
              "type            object\n",
              "title           object\n",
              "director        object\n",
              "cast            object\n",
              "country         object\n",
              "date_added      object\n",
              "release_year     int64\n",
              "rating          object\n",
              "duration        object\n",
              "listed_in       object\n",
              "description     object\n",
              "dtype: object"
            ]
          },
          "metadata": {
            "tags": []
          },
          "execution_count": 231
        }
      ]
    },
    {
      "cell_type": "code",
      "metadata": {
        "id": "PHwCIEHA0C90",
        "colab_type": "code",
        "outputId": "7e209fec-5f2e-4e8b-c84c-dfa62a539bb5",
        "colab": {
          "base_uri": "https://localhost:8080/",
          "height": 108
        }
      },
      "source": [
        "ds.describe().transpose()"
      ],
      "execution_count": 0,
      "outputs": [
        {
          "output_type": "execute_result",
          "data": {
            "text/html": [
              "<div>\n",
              "<style scoped>\n",
              "    .dataframe tbody tr th:only-of-type {\n",
              "        vertical-align: middle;\n",
              "    }\n",
              "\n",
              "    .dataframe tbody tr th {\n",
              "        vertical-align: top;\n",
              "    }\n",
              "\n",
              "    .dataframe thead th {\n",
              "        text-align: right;\n",
              "    }\n",
              "</style>\n",
              "<table border=\"1\" class=\"dataframe\">\n",
              "  <thead>\n",
              "    <tr style=\"text-align: right;\">\n",
              "      <th></th>\n",
              "      <th>count</th>\n",
              "      <th>mean</th>\n",
              "      <th>std</th>\n",
              "      <th>min</th>\n",
              "      <th>25%</th>\n",
              "      <th>50%</th>\n",
              "      <th>75%</th>\n",
              "      <th>max</th>\n",
              "    </tr>\n",
              "  </thead>\n",
              "  <tbody>\n",
              "    <tr>\n",
              "      <th>show_id</th>\n",
              "      <td>6234.0</td>\n",
              "      <td>7.670368e+07</td>\n",
              "      <td>1.094296e+07</td>\n",
              "      <td>247747.0</td>\n",
              "      <td>80035801.75</td>\n",
              "      <td>80163367.0</td>\n",
              "      <td>80244888.75</td>\n",
              "      <td>81235729.0</td>\n",
              "    </tr>\n",
              "    <tr>\n",
              "      <th>release_year</th>\n",
              "      <td>6234.0</td>\n",
              "      <td>2.013359e+03</td>\n",
              "      <td>8.811620e+00</td>\n",
              "      <td>1925.0</td>\n",
              "      <td>2013.00</td>\n",
              "      <td>2016.0</td>\n",
              "      <td>2018.00</td>\n",
              "      <td>2020.0</td>\n",
              "    </tr>\n",
              "  </tbody>\n",
              "</table>\n",
              "</div>"
            ],
            "text/plain": [
              "               count          mean           std       min          25%  \\\n",
              "show_id       6234.0  7.670368e+07  1.094296e+07  247747.0  80035801.75   \n",
              "release_year  6234.0  2.013359e+03  8.811620e+00    1925.0      2013.00   \n",
              "\n",
              "                     50%          75%         max  \n",
              "show_id       80163367.0  80244888.75  81235729.0  \n",
              "release_year      2016.0      2018.00      2020.0  "
            ]
          },
          "metadata": {
            "tags": []
          },
          "execution_count": 232
        }
      ]
    },
    {
      "cell_type": "markdown",
      "metadata": {
        "id": "3q9i6zyI1ygR",
        "colab_type": "text"
      },
      "source": [
        "# **Abaixo farei uma divisão dos dados em categóric e numérico para ter uma visão mais detalhada sobre as features.**"
      ]
    },
    {
      "cell_type": "code",
      "metadata": {
        "id": "PwthJubm0gpa",
        "colab_type": "code",
        "outputId": "b521cc03-1803-439e-cf6f-3ae265c88770",
        "colab": {
          "base_uri": "https://localhost:8080/",
          "height": 285
        }
      },
      "source": [
        "#Nomes das colunas Categóricas do Dataset\n",
        "cat_col = [var for var in ds.columns if ds[var].dtype == 'O']\n",
        "ds.loc[:,cat_col].head()"
      ],
      "execution_count": 0,
      "outputs": [
        {
          "output_type": "execute_result",
          "data": {
            "text/html": [
              "<div>\n",
              "<style scoped>\n",
              "    .dataframe tbody tr th:only-of-type {\n",
              "        vertical-align: middle;\n",
              "    }\n",
              "\n",
              "    .dataframe tbody tr th {\n",
              "        vertical-align: top;\n",
              "    }\n",
              "\n",
              "    .dataframe thead th {\n",
              "        text-align: right;\n",
              "    }\n",
              "</style>\n",
              "<table border=\"1\" class=\"dataframe\">\n",
              "  <thead>\n",
              "    <tr style=\"text-align: right;\">\n",
              "      <th></th>\n",
              "      <th>type</th>\n",
              "      <th>title</th>\n",
              "      <th>director</th>\n",
              "      <th>cast</th>\n",
              "      <th>country</th>\n",
              "      <th>date_added</th>\n",
              "      <th>rating</th>\n",
              "      <th>duration</th>\n",
              "      <th>listed_in</th>\n",
              "      <th>description</th>\n",
              "    </tr>\n",
              "  </thead>\n",
              "  <tbody>\n",
              "    <tr>\n",
              "      <th>0</th>\n",
              "      <td>Movie</td>\n",
              "      <td>Norm of the North: King Sized Adventure</td>\n",
              "      <td>Richard Finn, Tim Maltby</td>\n",
              "      <td>Alan Marriott, Andrew Toth, Brian Dobson, Cole...</td>\n",
              "      <td>United States, India, South Korea, China</td>\n",
              "      <td>September 9, 2019</td>\n",
              "      <td>TV-PG</td>\n",
              "      <td>90 min</td>\n",
              "      <td>Children &amp; Family Movies, Comedies</td>\n",
              "      <td>Before planning an awesome wedding for his gra...</td>\n",
              "    </tr>\n",
              "    <tr>\n",
              "      <th>1</th>\n",
              "      <td>Movie</td>\n",
              "      <td>Jandino: Whatever it Takes</td>\n",
              "      <td>NaN</td>\n",
              "      <td>Jandino Asporaat</td>\n",
              "      <td>United Kingdom</td>\n",
              "      <td>September 9, 2016</td>\n",
              "      <td>TV-MA</td>\n",
              "      <td>94 min</td>\n",
              "      <td>Stand-Up Comedy</td>\n",
              "      <td>Jandino Asporaat riffs on the challenges of ra...</td>\n",
              "    </tr>\n",
              "    <tr>\n",
              "      <th>2</th>\n",
              "      <td>TV Show</td>\n",
              "      <td>Transformers Prime</td>\n",
              "      <td>NaN</td>\n",
              "      <td>Peter Cullen, Sumalee Montano, Frank Welker, J...</td>\n",
              "      <td>United States</td>\n",
              "      <td>September 8, 2018</td>\n",
              "      <td>TV-Y7-FV</td>\n",
              "      <td>1 Season</td>\n",
              "      <td>Kids' TV</td>\n",
              "      <td>With the help of three human allies, the Autob...</td>\n",
              "    </tr>\n",
              "    <tr>\n",
              "      <th>3</th>\n",
              "      <td>TV Show</td>\n",
              "      <td>Transformers: Robots in Disguise</td>\n",
              "      <td>NaN</td>\n",
              "      <td>Will Friedle, Darren Criss, Constance Zimmer, ...</td>\n",
              "      <td>United States</td>\n",
              "      <td>September 8, 2018</td>\n",
              "      <td>TV-Y7</td>\n",
              "      <td>1 Season</td>\n",
              "      <td>Kids' TV</td>\n",
              "      <td>When a prison ship crash unleashes hundreds of...</td>\n",
              "    </tr>\n",
              "    <tr>\n",
              "      <th>4</th>\n",
              "      <td>Movie</td>\n",
              "      <td>#realityhigh</td>\n",
              "      <td>Fernando Lebrija</td>\n",
              "      <td>Nesta Cooper, Kate Walsh, John Michael Higgins...</td>\n",
              "      <td>United States</td>\n",
              "      <td>September 8, 2017</td>\n",
              "      <td>TV-14</td>\n",
              "      <td>99 min</td>\n",
              "      <td>Comedies</td>\n",
              "      <td>When nerdy high schooler Dani finally attracts...</td>\n",
              "    </tr>\n",
              "  </tbody>\n",
              "</table>\n",
              "</div>"
            ],
            "text/plain": [
              "      type                                    title                  director  \\\n",
              "0    Movie  Norm of the North: King Sized Adventure  Richard Finn, Tim Maltby   \n",
              "1    Movie               Jandino: Whatever it Takes                       NaN   \n",
              "2  TV Show                       Transformers Prime                       NaN   \n",
              "3  TV Show         Transformers: Robots in Disguise                       NaN   \n",
              "4    Movie                             #realityhigh          Fernando Lebrija   \n",
              "\n",
              "                                                cast  \\\n",
              "0  Alan Marriott, Andrew Toth, Brian Dobson, Cole...   \n",
              "1                                   Jandino Asporaat   \n",
              "2  Peter Cullen, Sumalee Montano, Frank Welker, J...   \n",
              "3  Will Friedle, Darren Criss, Constance Zimmer, ...   \n",
              "4  Nesta Cooper, Kate Walsh, John Michael Higgins...   \n",
              "\n",
              "                                    country         date_added    rating  \\\n",
              "0  United States, India, South Korea, China  September 9, 2019     TV-PG   \n",
              "1                            United Kingdom  September 9, 2016     TV-MA   \n",
              "2                             United States  September 8, 2018  TV-Y7-FV   \n",
              "3                             United States  September 8, 2018     TV-Y7   \n",
              "4                             United States  September 8, 2017     TV-14   \n",
              "\n",
              "   duration                           listed_in  \\\n",
              "0    90 min  Children & Family Movies, Comedies   \n",
              "1    94 min                     Stand-Up Comedy   \n",
              "2  1 Season                            Kids' TV   \n",
              "3  1 Season                            Kids' TV   \n",
              "4    99 min                            Comedies   \n",
              "\n",
              "                                         description  \n",
              "0  Before planning an awesome wedding for his gra...  \n",
              "1  Jandino Asporaat riffs on the challenges of ra...  \n",
              "2  With the help of three human allies, the Autob...  \n",
              "3  When a prison ship crash unleashes hundreds of...  \n",
              "4  When nerdy high schooler Dani finally attracts...  "
            ]
          },
          "metadata": {
            "tags": []
          },
          "execution_count": 233
        }
      ]
    },
    {
      "cell_type": "code",
      "metadata": {
        "id": "709M_tjf3F-D",
        "colab_type": "code",
        "outputId": "4bc9d7b8-e190-4922-a3fe-529d18ee4493",
        "colab": {
          "base_uri": "https://localhost:8080/",
          "height": 138
        }
      },
      "source": [
        "# Nome das colunas numéricas do Dataset\n",
        "num_col = [var for var in ds.columns if ds[var].dtype != 'O']\n",
        "ds.loc[:, num_col].head(3)"
      ],
      "execution_count": 0,
      "outputs": [
        {
          "output_type": "execute_result",
          "data": {
            "text/html": [
              "<div>\n",
              "<style scoped>\n",
              "    .dataframe tbody tr th:only-of-type {\n",
              "        vertical-align: middle;\n",
              "    }\n",
              "\n",
              "    .dataframe tbody tr th {\n",
              "        vertical-align: top;\n",
              "    }\n",
              "\n",
              "    .dataframe thead th {\n",
              "        text-align: right;\n",
              "    }\n",
              "</style>\n",
              "<table border=\"1\" class=\"dataframe\">\n",
              "  <thead>\n",
              "    <tr style=\"text-align: right;\">\n",
              "      <th></th>\n",
              "      <th>show_id</th>\n",
              "      <th>release_year</th>\n",
              "    </tr>\n",
              "  </thead>\n",
              "  <tbody>\n",
              "    <tr>\n",
              "      <th>0</th>\n",
              "      <td>81145628</td>\n",
              "      <td>2019</td>\n",
              "    </tr>\n",
              "    <tr>\n",
              "      <th>1</th>\n",
              "      <td>80117401</td>\n",
              "      <td>2016</td>\n",
              "    </tr>\n",
              "    <tr>\n",
              "      <th>2</th>\n",
              "      <td>70234439</td>\n",
              "      <td>2013</td>\n",
              "    </tr>\n",
              "  </tbody>\n",
              "</table>\n",
              "</div>"
            ],
            "text/plain": [
              "    show_id  release_year\n",
              "0  81145628          2019\n",
              "1  80117401          2016\n",
              "2  70234439          2013"
            ]
          },
          "metadata": {
            "tags": []
          },
          "execution_count": 234
        }
      ]
    },
    {
      "cell_type": "markdown",
      "metadata": {
        "id": "am6Mlan_336x",
        "colab_type": "text"
      },
      "source": [
        "#**Para as features numéricas temos o seguinte cenário:**\n",
        "\n",
        "* 1 variável Id: show_id (chave primária)\n",
        "* 1 variável contínua: release_year."
      ]
    },
    {
      "cell_type": "code",
      "metadata": {
        "id": "J50NaPUD4fLB",
        "colab_type": "code",
        "outputId": "c661ec6f-0aa0-4e35-d4ea-633e6987d515",
        "colab": {
          "base_uri": "https://localhost:8080/",
          "height": 254
        }
      },
      "source": [
        "# Percentual de dados faltantes na base de Treino\n",
        "round(ds.isnull().mean() *100,2)"
      ],
      "execution_count": 0,
      "outputs": [
        {
          "output_type": "execute_result",
          "data": {
            "text/plain": [
              "show_id          0.00\n",
              "type             0.00\n",
              "title            0.00\n",
              "director        31.58\n",
              "cast             9.14\n",
              "country          7.64\n",
              "date_added       0.18\n",
              "release_year     0.00\n",
              "rating           0.16\n",
              "duration         0.00\n",
              "listed_in        0.00\n",
              "description      0.00\n",
              "dtype: float64"
            ]
          },
          "metadata": {
            "tags": []
          },
          "execution_count": 235
        }
      ]
    },
    {
      "cell_type": "code",
      "metadata": {
        "id": "E7HK_xBr43HN",
        "colab_type": "code",
        "outputId": "03b26824-dddd-4eb1-8049-4f94f5744853",
        "colab": {
          "base_uri": "https://localhost:8080/",
          "height": 72
        }
      },
      "source": [
        "print('Total de FIlmes / TV Show no DataSet de treino {}'.format(ds.shape[0]))\n",
        "print('Total de FIlmes / TV Show com todos os registros preenchidos (linhas) {}'.format(ds.dropna().shape[0]))\n",
        "print('Percentual de dados com 100% do preenchimento dos dados {}'.format(round(ds.dropna().shape[0] / len(ds) *100,2)))"
      ],
      "execution_count": 0,
      "outputs": [
        {
          "output_type": "stream",
          "text": [
            "Total de FIlmes / TV Show no DataSet de treino 6234\n",
            "Total de FIlmes / TV Show com todos os registros preenchidos (linhas) 3774\n",
            "Percentual de dados com 100% do preenchimento dos dados 60.54\n"
          ],
          "name": "stdout"
        }
      ]
    },
    {
      "cell_type": "markdown",
      "metadata": {
        "id": "ilWwpszoQ_WJ",
        "colab_type": "text"
      },
      "source": [
        "#**As colunas director, cast, country, data_added e rating precisa ser tratada para valores faltantes.**\n",
        "\n",
        "## Vamos começar pela coluna rating que e a coluna que possui menos valores faltantes."
      ]
    },
    {
      "cell_type": "code",
      "metadata": {
        "id": "Wvxxw4no6AlZ",
        "colab_type": "code",
        "outputId": "0f5bcf30-d46d-4d2e-a21d-662272fae72c",
        "colab": {
          "base_uri": "https://localhost:8080/",
          "height": 90
        }
      },
      "source": [
        "#Verificando a quantidade de registros que não possuem a informação rating\n",
        "print('Quantidade de linhas sem a informação rating {}'.format(ds[ds.rating.isnull()].shape[0]))\n",
        "print('Quantidade de linhas sem a informação date_added {}'.format(ds[ds.date_added.isnull()].shape[0]))\n",
        "print('Quantidade de linhas sem a informação country {}'.format(ds[ds.country.isnull()].shape[0]))\n",
        "print('Quantidade de linhas sem a informação cast {}'.format(ds[ds.cast.isnull()].shape[0]))"
      ],
      "execution_count": 0,
      "outputs": [
        {
          "output_type": "stream",
          "text": [
            "Quantidade de linhas sem a informação rating 10\n",
            "Quantidade de linhas sem a informação date_added 11\n",
            "Quantidade de linhas sem a informação country 476\n",
            "Quantidade de linhas sem a informação cast 570\n"
          ],
          "name": "stdout"
        }
      ]
    },
    {
      "cell_type": "markdown",
      "metadata": {
        "id": "e_EwOppKZot9",
        "colab_type": "text"
      },
      "source": [
        "## Como a poucos registros que não possuem informações irei apenas remover esses registros."
      ]
    },
    {
      "cell_type": "code",
      "metadata": {
        "id": "uhkf4uATcB9c",
        "colab_type": "code",
        "outputId": "6fa996e3-a347-493a-f5df-49699c63c2cd",
        "colab": {
          "base_uri": "https://localhost:8080/",
          "height": 254
        }
      },
      "source": [
        "# Removendo registros sem informações por meio de filtro.\n",
        "ds = ds[ds.cast.notnull() & ds.date_added.notnull() & ds.country.notnull() & ds.rating.notnull() ]\n",
        "round(ds.isnull().mean() *100,2)"
      ],
      "execution_count": 0,
      "outputs": [
        {
          "output_type": "execute_result",
          "data": {
            "text/plain": [
              "show_id          0.0\n",
              "type             0.0\n",
              "title            0.0\n",
              "director        28.2\n",
              "cast             0.0\n",
              "country          0.0\n",
              "date_added       0.0\n",
              "release_year     0.0\n",
              "rating           0.0\n",
              "duration         0.0\n",
              "listed_in        0.0\n",
              "description      0.0\n",
              "dtype: float64"
            ]
          },
          "metadata": {
            "tags": []
          },
          "execution_count": 238
        }
      ]
    },
    {
      "cell_type": "markdown",
      "metadata": {
        "id": "t1eiEEuadLdU",
        "colab_type": "text"
      },
      "source": [
        "#**A coluna director precisa ser tratada para valores faltantes.**\n",
        "\n",
        "A coluna director possui muitos dados faltantes neste caso sera melhor remover a coluna."
      ]
    },
    {
      "cell_type": "code",
      "metadata": {
        "id": "OC45MobVcshH",
        "colab_type": "code",
        "outputId": "6bf6585b-7b2d-4376-f18b-750840019c66",
        "colab": {
          "base_uri": "https://localhost:8080/",
          "height": 35
        }
      },
      "source": [
        "ds = ds.drop(['director'], axis=1)\n",
        "ds.shape[0]"
      ],
      "execution_count": 0,
      "outputs": [
        {
          "output_type": "execute_result",
          "data": {
            "text/plain": [
              "5256"
            ]
          },
          "metadata": {
            "tags": []
          },
          "execution_count": 239
        }
      ]
    },
    {
      "cell_type": "markdown",
      "metadata": {
        "id": "AXdeCo03aRyH",
        "colab_type": "text"
      },
      "source": [
        "#**A coluna date_added possui informações de mês e ano nesse caso podemos separalos para termos uma maior especificidade dos dados**\n",
        "\n",
        "## Para isso vamos criar 2 novas colunas **_year_added_** e **_month_added_** e remover a coluna **_date_added_**"
      ]
    },
    {
      "cell_type": "code",
      "metadata": {
        "id": "-wNaTz35EBPa",
        "colab_type": "code",
        "outputId": "514c643e-a82f-47ac-cbe9-9c9aeac2cc0b",
        "colab": {
          "base_uri": "https://localhost:8080/",
          "height": 580
        }
      },
      "source": [
        "ds['year_added'] = ds['date_added'].apply(lambda x : x.split(', ')[-1])\n",
        "ds['month_added'] = ds['date_added'].apply(lambda x : x.lstrip().split(' ')[0])\n",
        "\n",
        "month_order = ['January', 'February', 'March', 'April', 'May', 'June', 'July', 'August', 'September', 'October', 'November', 'December'][::-1]\n",
        "df = ds.groupby('year_added')['month_added'].value_counts().unstack().fillna(0)[month_order].T\n",
        "ds.drop(['date_added'], axis=1)"
      ],
      "execution_count": 0,
      "outputs": [
        {
          "output_type": "execute_result",
          "data": {
            "text/html": [
              "<div>\n",
              "<style scoped>\n",
              "    .dataframe tbody tr th:only-of-type {\n",
              "        vertical-align: middle;\n",
              "    }\n",
              "\n",
              "    .dataframe tbody tr th {\n",
              "        vertical-align: top;\n",
              "    }\n",
              "\n",
              "    .dataframe thead th {\n",
              "        text-align: right;\n",
              "    }\n",
              "</style>\n",
              "<table border=\"1\" class=\"dataframe\">\n",
              "  <thead>\n",
              "    <tr style=\"text-align: right;\">\n",
              "      <th></th>\n",
              "      <th>show_id</th>\n",
              "      <th>type</th>\n",
              "      <th>title</th>\n",
              "      <th>cast</th>\n",
              "      <th>country</th>\n",
              "      <th>release_year</th>\n",
              "      <th>rating</th>\n",
              "      <th>duration</th>\n",
              "      <th>listed_in</th>\n",
              "      <th>description</th>\n",
              "      <th>year_added</th>\n",
              "      <th>month_added</th>\n",
              "    </tr>\n",
              "  </thead>\n",
              "  <tbody>\n",
              "    <tr>\n",
              "      <th>0</th>\n",
              "      <td>81145628</td>\n",
              "      <td>Movie</td>\n",
              "      <td>Norm of the North: King Sized Adventure</td>\n",
              "      <td>Alan Marriott, Andrew Toth, Brian Dobson, Cole...</td>\n",
              "      <td>United States, India, South Korea, China</td>\n",
              "      <td>2019</td>\n",
              "      <td>TV-PG</td>\n",
              "      <td>90 min</td>\n",
              "      <td>Children &amp; Family Movies, Comedies</td>\n",
              "      <td>Before planning an awesome wedding for his gra...</td>\n",
              "      <td>2019</td>\n",
              "      <td>September</td>\n",
              "    </tr>\n",
              "    <tr>\n",
              "      <th>1</th>\n",
              "      <td>80117401</td>\n",
              "      <td>Movie</td>\n",
              "      <td>Jandino: Whatever it Takes</td>\n",
              "      <td>Jandino Asporaat</td>\n",
              "      <td>United Kingdom</td>\n",
              "      <td>2016</td>\n",
              "      <td>TV-MA</td>\n",
              "      <td>94 min</td>\n",
              "      <td>Stand-Up Comedy</td>\n",
              "      <td>Jandino Asporaat riffs on the challenges of ra...</td>\n",
              "      <td>2016</td>\n",
              "      <td>September</td>\n",
              "    </tr>\n",
              "    <tr>\n",
              "      <th>2</th>\n",
              "      <td>70234439</td>\n",
              "      <td>TV Show</td>\n",
              "      <td>Transformers Prime</td>\n",
              "      <td>Peter Cullen, Sumalee Montano, Frank Welker, J...</td>\n",
              "      <td>United States</td>\n",
              "      <td>2013</td>\n",
              "      <td>TV-Y7-FV</td>\n",
              "      <td>1 Season</td>\n",
              "      <td>Kids' TV</td>\n",
              "      <td>With the help of three human allies, the Autob...</td>\n",
              "      <td>2018</td>\n",
              "      <td>September</td>\n",
              "    </tr>\n",
              "    <tr>\n",
              "      <th>3</th>\n",
              "      <td>80058654</td>\n",
              "      <td>TV Show</td>\n",
              "      <td>Transformers: Robots in Disguise</td>\n",
              "      <td>Will Friedle, Darren Criss, Constance Zimmer, ...</td>\n",
              "      <td>United States</td>\n",
              "      <td>2016</td>\n",
              "      <td>TV-Y7</td>\n",
              "      <td>1 Season</td>\n",
              "      <td>Kids' TV</td>\n",
              "      <td>When a prison ship crash unleashes hundreds of...</td>\n",
              "      <td>2018</td>\n",
              "      <td>September</td>\n",
              "    </tr>\n",
              "    <tr>\n",
              "      <th>4</th>\n",
              "      <td>80125979</td>\n",
              "      <td>Movie</td>\n",
              "      <td>#realityhigh</td>\n",
              "      <td>Nesta Cooper, Kate Walsh, John Michael Higgins...</td>\n",
              "      <td>United States</td>\n",
              "      <td>2017</td>\n",
              "      <td>TV-14</td>\n",
              "      <td>99 min</td>\n",
              "      <td>Comedies</td>\n",
              "      <td>When nerdy high schooler Dani finally attracts...</td>\n",
              "      <td>2017</td>\n",
              "      <td>September</td>\n",
              "    </tr>\n",
              "    <tr>\n",
              "      <th>...</th>\n",
              "      <td>...</td>\n",
              "      <td>...</td>\n",
              "      <td>...</td>\n",
              "      <td>...</td>\n",
              "      <td>...</td>\n",
              "      <td>...</td>\n",
              "      <td>...</td>\n",
              "      <td>...</td>\n",
              "      <td>...</td>\n",
              "      <td>...</td>\n",
              "      <td>...</td>\n",
              "      <td>...</td>\n",
              "    </tr>\n",
              "    <tr>\n",
              "      <th>6218</th>\n",
              "      <td>80162994</td>\n",
              "      <td>TV Show</td>\n",
              "      <td>Talking Tom and Friends</td>\n",
              "      <td>Colin Hanks, Tom Kenny, James Adomian, Lisa Sc...</td>\n",
              "      <td>Cyprus, Austria, Thailand</td>\n",
              "      <td>2017</td>\n",
              "      <td>TV-G</td>\n",
              "      <td>2 Seasons</td>\n",
              "      <td>Kids' TV, TV Comedies</td>\n",
              "      <td>Full of funny one-liners and always ready for ...</td>\n",
              "      <td>2019</td>\n",
              "      <td>April</td>\n",
              "    </tr>\n",
              "    <tr>\n",
              "      <th>6219</th>\n",
              "      <td>80186475</td>\n",
              "      <td>TV Show</td>\n",
              "      <td>Pokémon the Series</td>\n",
              "      <td>Sarah Natochenny, Laurie Hymes, Jessica Paquet...</td>\n",
              "      <td>Japan</td>\n",
              "      <td>2019</td>\n",
              "      <td>TV-Y7-FV</td>\n",
              "      <td>2 Seasons</td>\n",
              "      <td>Anime Series, Kids' TV</td>\n",
              "      <td>Ash and his Pikachu travel to the Alola region...</td>\n",
              "      <td>2019</td>\n",
              "      <td>April</td>\n",
              "    </tr>\n",
              "    <tr>\n",
              "      <th>6220</th>\n",
              "      <td>70272742</td>\n",
              "      <td>TV Show</td>\n",
              "      <td>Justin Time</td>\n",
              "      <td>Gage Munroe, Scott McCord, Jenna Warren</td>\n",
              "      <td>Canada</td>\n",
              "      <td>2012</td>\n",
              "      <td>TV-Y</td>\n",
              "      <td>2 Seasons</td>\n",
              "      <td>Kids' TV</td>\n",
              "      <td>In Justin's dreams, he and his imaginary frien...</td>\n",
              "      <td>2016</td>\n",
              "      <td>April</td>\n",
              "    </tr>\n",
              "    <tr>\n",
              "      <th>6221</th>\n",
              "      <td>80067942</td>\n",
              "      <td>TV Show</td>\n",
              "      <td>Terrace House: Boys &amp; Girls in the City</td>\n",
              "      <td>You, Reina Triendl, Ryota Yamasato, Yoshimi To...</td>\n",
              "      <td>Japan</td>\n",
              "      <td>2016</td>\n",
              "      <td>TV-14</td>\n",
              "      <td>2 Seasons</td>\n",
              "      <td>International TV Shows, Reality TV</td>\n",
              "      <td>A new set of six men and women start their liv...</td>\n",
              "      <td>2016</td>\n",
              "      <td>April</td>\n",
              "    </tr>\n",
              "    <tr>\n",
              "      <th>6222</th>\n",
              "      <td>70136122</td>\n",
              "      <td>TV Show</td>\n",
              "      <td>Weeds</td>\n",
              "      <td>Mary-Louise Parker, Hunter Parrish, Alexander ...</td>\n",
              "      <td>United States</td>\n",
              "      <td>2012</td>\n",
              "      <td>TV-MA</td>\n",
              "      <td>8 Seasons</td>\n",
              "      <td>TV Comedies, TV Dramas</td>\n",
              "      <td>A suburban mother starts selling marijuana to ...</td>\n",
              "      <td>2014</td>\n",
              "      <td>April</td>\n",
              "    </tr>\n",
              "  </tbody>\n",
              "</table>\n",
              "<p>5256 rows × 12 columns</p>\n",
              "</div>"
            ],
            "text/plain": [
              "       show_id     type                                    title  \\\n",
              "0     81145628    Movie  Norm of the North: King Sized Adventure   \n",
              "1     80117401    Movie               Jandino: Whatever it Takes   \n",
              "2     70234439  TV Show                       Transformers Prime   \n",
              "3     80058654  TV Show         Transformers: Robots in Disguise   \n",
              "4     80125979    Movie                             #realityhigh   \n",
              "...        ...      ...                                      ...   \n",
              "6218  80162994  TV Show                  Talking Tom and Friends   \n",
              "6219  80186475  TV Show                       Pokémon the Series   \n",
              "6220  70272742  TV Show                              Justin Time   \n",
              "6221  80067942  TV Show  Terrace House: Boys & Girls in the City   \n",
              "6222  70136122  TV Show                                    Weeds   \n",
              "\n",
              "                                                   cast  \\\n",
              "0     Alan Marriott, Andrew Toth, Brian Dobson, Cole...   \n",
              "1                                      Jandino Asporaat   \n",
              "2     Peter Cullen, Sumalee Montano, Frank Welker, J...   \n",
              "3     Will Friedle, Darren Criss, Constance Zimmer, ...   \n",
              "4     Nesta Cooper, Kate Walsh, John Michael Higgins...   \n",
              "...                                                 ...   \n",
              "6218  Colin Hanks, Tom Kenny, James Adomian, Lisa Sc...   \n",
              "6219  Sarah Natochenny, Laurie Hymes, Jessica Paquet...   \n",
              "6220            Gage Munroe, Scott McCord, Jenna Warren   \n",
              "6221  You, Reina Triendl, Ryota Yamasato, Yoshimi To...   \n",
              "6222  Mary-Louise Parker, Hunter Parrish, Alexander ...   \n",
              "\n",
              "                                       country  release_year    rating  \\\n",
              "0     United States, India, South Korea, China          2019     TV-PG   \n",
              "1                               United Kingdom          2016     TV-MA   \n",
              "2                                United States          2013  TV-Y7-FV   \n",
              "3                                United States          2016     TV-Y7   \n",
              "4                                United States          2017     TV-14   \n",
              "...                                        ...           ...       ...   \n",
              "6218                 Cyprus, Austria, Thailand          2017      TV-G   \n",
              "6219                                     Japan          2019  TV-Y7-FV   \n",
              "6220                                    Canada          2012      TV-Y   \n",
              "6221                                     Japan          2016     TV-14   \n",
              "6222                             United States          2012     TV-MA   \n",
              "\n",
              "       duration                           listed_in  \\\n",
              "0        90 min  Children & Family Movies, Comedies   \n",
              "1        94 min                     Stand-Up Comedy   \n",
              "2      1 Season                            Kids' TV   \n",
              "3      1 Season                            Kids' TV   \n",
              "4        99 min                            Comedies   \n",
              "...         ...                                 ...   \n",
              "6218  2 Seasons               Kids' TV, TV Comedies   \n",
              "6219  2 Seasons              Anime Series, Kids' TV   \n",
              "6220  2 Seasons                            Kids' TV   \n",
              "6221  2 Seasons  International TV Shows, Reality TV   \n",
              "6222  8 Seasons              TV Comedies, TV Dramas   \n",
              "\n",
              "                                            description year_added month_added  \n",
              "0     Before planning an awesome wedding for his gra...       2019   September  \n",
              "1     Jandino Asporaat riffs on the challenges of ra...       2016   September  \n",
              "2     With the help of three human allies, the Autob...       2018   September  \n",
              "3     When a prison ship crash unleashes hundreds of...       2018   September  \n",
              "4     When nerdy high schooler Dani finally attracts...       2017   September  \n",
              "...                                                 ...        ...         ...  \n",
              "6218  Full of funny one-liners and always ready for ...       2019       April  \n",
              "6219  Ash and his Pikachu travel to the Alola region...       2019       April  \n",
              "6220  In Justin's dreams, he and his imaginary frien...       2016       April  \n",
              "6221  A new set of six men and women start their liv...       2016       April  \n",
              "6222  A suburban mother starts selling marijuana to ...       2014       April  \n",
              "\n",
              "[5256 rows x 12 columns]"
            ]
          },
          "metadata": {
            "tags": []
          },
          "execution_count": 240
        }
      ]
    },
    {
      "cell_type": "markdown",
      "metadata": {
        "id": "EwdPu_xxgCho",
        "colab_type": "text"
      },
      "source": [
        "#**Trantando os dados que seram usados para o treinar**"
      ]
    },
    {
      "cell_type": "code",
      "metadata": {
        "id": "wMaLMSlycfwr",
        "colab_type": "code",
        "colab": {}
      },
      "source": [
        "ds['country'] = ds.country.astype('category')\n",
        "ds['country'].cat.categories\n",
        "ds['country'] = ds['country'].cat.codes"
      ],
      "execution_count": 0,
      "outputs": []
    },
    {
      "cell_type": "code",
      "metadata": {
        "id": "NUTVe7P4fnGb",
        "colab_type": "code",
        "colab": {}
      },
      "source": [
        "ds['rating'] = ds.rating.astype('category')\n",
        "ds['rating'].cat.categories\n",
        "ds['rating'] = ds['rating'].cat.codes"
      ],
      "execution_count": 0,
      "outputs": []
    },
    {
      "cell_type": "markdown",
      "metadata": {
        "id": "lpIymrdUgQJ_",
        "colab_type": "text"
      },
      "source": [
        "#**Iniciando o treino dos dados**\n",
        "\n",
        "## O teste utilizado e para tentar classificar o __Tipo__ de um novo registro usando a região como parâmetro."
      ]
    },
    {
      "cell_type": "code",
      "metadata": {
        "id": "y2x3MSypdzBr",
        "colab_type": "code",
        "colab": {}
      },
      "source": [
        "X_train, X_test, y_train, y_test = train_test_split(ds[['country']], ds['type'], random_state=0)"
      ],
      "execution_count": 0,
      "outputs": []
    },
    {
      "cell_type": "code",
      "metadata": {
        "id": "kvc5G-SthAVr",
        "colab_type": "code",
        "outputId": "bda0f830-8665-4f12-abd3-5df2d15c8443",
        "colab": {
          "base_uri": "https://localhost:8080/",
          "height": 90
        }
      },
      "source": [
        "print(\"X_train shape: {}\".format(X_train.shape)) #\n",
        "print(\"y_train shape: {}\".format(y_train.shape)) #\n",
        "print(\"X_test shape: {}\".format(X_test.shape)) #\n",
        "print(\"y_test shape: {}\".format(y_test.shape)) #"
      ],
      "execution_count": 0,
      "outputs": [
        {
          "output_type": "stream",
          "text": [
            "X_train shape: (3942, 1)\n",
            "y_train shape: (3942,)\n",
            "X_test shape: (1314, 1)\n",
            "y_test shape: (1314,)\n"
          ],
          "name": "stdout"
        }
      ]
    },
    {
      "cell_type": "code",
      "metadata": {
        "id": "zJArL6TdhQgJ",
        "colab_type": "code",
        "outputId": "aad5d0e9-69e3-485e-ef6a-13e515597735",
        "colab": {
          "base_uri": "https://localhost:8080/",
          "height": 72
        }
      },
      "source": [
        "knn = KNeighborsClassifier(n_neighbors=3)\n",
        "knn.fit(X_train, y_train)"
      ],
      "execution_count": 0,
      "outputs": [
        {
          "output_type": "execute_result",
          "data": {
            "text/plain": [
              "KNeighborsClassifier(algorithm='auto', leaf_size=30, metric='minkowski',\n",
              "                     metric_params=None, n_jobs=None, n_neighbors=3, p=2,\n",
              "                     weights='uniform')"
            ]
          },
          "metadata": {
            "tags": []
          },
          "execution_count": 245
        }
      ]
    },
    {
      "cell_type": "code",
      "metadata": {
        "id": "wYzdCFfjZQW9",
        "colab_type": "code",
        "outputId": "8a8664cc-95e5-4952-9978-400e422fe978",
        "colab": {
          "base_uri": "https://localhost:8080/",
          "height": 54
        }
      },
      "source": [
        "print(\"Test set predictions:\\n {}\".format(y_pred))"
      ],
      "execution_count": 0,
      "outputs": [
        {
          "output_type": "stream",
          "text": [
            "Test set predictions:\n",
            " ['TV Show' 'TV Show' 'TV Show' ... 'Movie' 'TV Show' 'TV Show']\n"
          ],
          "name": "stdout"
        }
      ]
    },
    {
      "cell_type": "markdown",
      "metadata": {
        "id": "owPmH-4ii7o8",
        "colab_type": "text"
      },
      "source": [
        "#**A acuracia do teste está muito baixa o que indica que temos que melhorar o nosso dataset**"
      ]
    },
    {
      "cell_type": "code",
      "metadata": {
        "id": "dvaG5x_PZVZY",
        "colab_type": "code",
        "outputId": "c5b368f6-22a5-49df-958c-17ba39245df0",
        "colab": {
          "base_uri": "https://localhost:8080/",
          "height": 35
        }
      },
      "source": [
        "print(\"Test set score: {:.2f}\".format(np.mean(y_pred == y_test)))"
      ],
      "execution_count": 0,
      "outputs": [
        {
          "output_type": "stream",
          "text": [
            "Test set score: 0.47\n"
          ],
          "name": "stdout"
        }
      ]
    }
  ]
}